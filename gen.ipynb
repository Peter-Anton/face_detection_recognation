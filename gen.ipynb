{
 "cells": [
  {
   "cell_type": "code",
   "execution_count": 1,
   "metadata": {},
   "outputs": [],
   "source": [
    "import os \n",
    "from PIL import Image, ImageDraw\n",
    "import numpy as np\n",
    "import tqdm\n",
    "from tensorflow.keras.models import load_model"
   ]
  },
  {
   "cell_type": "code",
   "execution_count": 2,
   "metadata": {},
   "outputs": [
    {
     "name": "stderr",
     "output_type": "stream",
     "text": [
      "2024-04-17 16:17:53.817057: I metal_plugin/src/device/metal_device.cc:1154] Metal device set to: Apple M2\n",
      "2024-04-17 16:17:53.817079: I metal_plugin/src/device/metal_device.cc:296] systemMemory: 8.00 GB\n",
      "2024-04-17 16:17:53.817084: I metal_plugin/src/device/metal_device.cc:313] maxCacheSize: 2.67 GB\n",
      "2024-04-17 16:17:53.817382: I tensorflow/core/common_runtime/pluggable_device/pluggable_device_factory.cc:305] Could not identify NUMA node of platform GPU ID 0, defaulting to 0. Your kernel may not have been built with NUMA support.\n",
      "2024-04-17 16:17:53.817406: I tensorflow/core/common_runtime/pluggable_device/pluggable_device_factory.cc:271] Created TensorFlow device (/job:localhost/replica:0/task:0/device:GPU:0 with 0 MB memory) -> physical PluggableDevice (device: 0, name: METAL, pci bus id: <undefined>)\n",
      "WARNING:absl:Compiled the loaded model, but the compiled metrics have yet to be built. `model.compile_metrics` will be empty until you train or evaluate the model.\n"
     ]
    }
   ],
   "source": [
    "loaded_model = load_model('face_rec_acc_plus.h5')"
   ]
  },
  {
   "cell_type": "code",
   "execution_count": null,
   "metadata": {},
   "outputs": [],
   "source": [
    "def image_gen():\n",
    "    output_dir = \"generated_images\"\n",
    "    if not os.path.exists(output_dir):\n",
    "        os.makedirs(output_dir)\n",
    "        image_size=(160,160)\n",
    "        num_images = 70000\n",
    "        for i in range(num_images):\n",
    "            # Create a blank image with a white background\n",
    "            image = Image.new(\"RGB\", image_size, \"white\")\n",
    "            \n",
    "            # Create a drawing object\n",
    "            draw = ImageDraw.Draw(image)\n",
    "            \n",
    "            # Randomize parameters for shape generation\n",
    "            shape = np.random.choice(['rectangle', 'circle', 'triangle'])\n",
    "            color = tuple(np.random.randint(0, 256, size=3))\n",
    "            position = tuple(np.random.randint(0, size - 50) for size in image_size)\n",
    "            size = np.random.randint(20, 80)\n",
    "            \n",
    "            # Draw a shape on the image\n",
    "            if shape == 'rectangle':\n",
    "                end_position = (position[0] + size, position[1] + size)\n",
    "                draw.rectangle([position, end_position], fill=color)\n",
    "            elif shape == 'circle':\n",
    "                end_position = (position[0] + size, position[1] + size)\n",
    "                draw.ellipse([position, end_position], fill=color)\n",
    "            elif shape == 'triangle':\n",
    "                points = [\n",
    "                    (position[0] + size // 2, position[1]),\n",
    "                    (position[0], position[1] + size),\n",
    "                    (position[0] + size, position[1] + size)\n",
    "                ]\n",
    "                draw.polygon(points, fill=color)\n",
    "            \n",
    "            # Save the image\n",
    "            image_path = os.path.join(output_dir, f\"image_{i}.png\")\n",
    "            image.save(image_path)\n",
    "\n",
    "            if i % 1000 == 0:\n",
    "                print(f\"Generated {i}/{num_images} images\")\n",
    "\n",
    "        print(\"Image generation completed!\")\n"
   ]
  },
  {
   "cell_type": "code",
   "execution_count": null,
   "metadata": {},
   "outputs": [],
   "source": [
    "# create image\n",
    "image_gen()"
   ]
  },
  {
   "cell_type": "code",
   "execution_count": 5,
   "metadata": {},
   "outputs": [
    {
     "name": "stderr",
     "output_type": "stream",
     "text": [
      "Preprocessing images: 100%|██████████| 70000/70000 [48:40<00:00, 23.96it/s]  \n"
     ]
    }
   ],
   "source": [
    "import sys\n",
    "sys.stdout = open(os.devnull, 'w')\n",
    "\n",
    "#preprocess image and ransform to numpy array\n",
    "non_defined_features = []\n",
    "for i in tqdm.tqdm(range(70000), desc=\"Preprocessing images\"):\n",
    "    image = Image.open(f\"generated_images/image_{i}.png\")\n",
    "    image = image.resize((160, 160))\n",
    "    image = np.array(image) / 255.0\n",
    "    image = image.reshape(1, 160, 160, 3)\n",
    "    non_defined_features.append(loaded_model.predict(image)[0])\n",
    "sys.stdout = sys.__stdout__\n",
    "          "
   ]
  },
  {
   "cell_type": "code",
   "execution_count": 6,
   "metadata": {},
   "outputs": [
    {
     "ename": "AttributeError",
     "evalue": "'numpy.ndarray' object has no attribute 'save'",
     "output_type": "error",
     "traceback": [
      "\u001b[0;31m---------------------------------------------------------------------------\u001b[0m",
      "\u001b[0;31mAttributeError\u001b[0m                            Traceback (most recent call last)",
      "\u001b[1;32m/Users/peteranton/Desktop/peter/deep learning/lab6/gen.ipynb Cell 6\u001b[0m line \u001b[0;36m2\n\u001b[1;32m      <a href='vscode-notebook-cell:/Users/peteranton/Desktop/peter/deep%20learning/lab6/gen.ipynb#W5sZmlsZQ%3D%3D?line=0'>1</a>\u001b[0m non_defined_features\u001b[39m=\u001b[39mnp\u001b[39m.\u001b[39marray(non_defined_features)\n\u001b[0;32m----> <a href='vscode-notebook-cell:/Users/peteranton/Desktop/peter/deep%20learning/lab6/gen.ipynb#W5sZmlsZQ%3D%3D?line=1'>2</a>\u001b[0m non_defined_features\u001b[39m.\u001b[39;49msave(\u001b[39m'\u001b[39m\u001b[39mnon_defined_features.npy\u001b[39m\u001b[39m'\u001b[39m)\n\u001b[1;32m      <a href='vscode-notebook-cell:/Users/peteranton/Desktop/peter/deep%20learning/lab6/gen.ipynb#W5sZmlsZQ%3D%3D?line=2'>3</a>\u001b[0m \u001b[39mprint\u001b[39m(\u001b[39m\"\u001b[39m\u001b[39mNon-defined features saved!\u001b[39m\u001b[39m\"\u001b[39m)  \n",
      "\u001b[0;31mAttributeError\u001b[0m: 'numpy.ndarray' object has no attribute 'save'"
     ]
    }
   ],
   "source": [
    "non_defined_features=np.array(non_defined_features)"
   ]
  },
  {
   "cell_type": "code",
   "execution_count": 7,
   "metadata": {},
   "outputs": [
    {
     "data": {
      "text/plain": [
       "array([[3.65893720e-05, 4.32615423e-07, 4.18030359e-05, ...,\n",
       "        3.13520991e-06, 8.63364221e-07, 2.38137794e-08],\n",
       "       [1.24119222e-03, 9.71614213e-07, 1.19273714e-03, ...,\n",
       "        3.81360201e-06, 1.60367508e-05, 9.78692150e-09],\n",
       "       [7.62555937e-05, 1.00013565e-07, 6.56283464e-06, ...,\n",
       "        1.03698558e-05, 2.63486783e-07, 4.48002098e-08],\n",
       "       ...,\n",
       "       [5.04511081e-06, 1.53209356e-07, 2.24752621e-05, ...,\n",
       "        1.10354517e-06, 1.30401190e-06, 8.05205413e-09],\n",
       "       [8.66095506e-05, 8.45677022e-08, 1.71757220e-05, ...,\n",
       "        1.92938260e-05, 7.73360512e-07, 8.08986442e-08],\n",
       "       [2.15022847e-05, 3.13334738e-07, 2.17363577e-05, ...,\n",
       "        7.40853147e-06, 1.23898042e-06, 3.36366099e-08]], dtype=float32)"
      ]
     },
     "execution_count": 7,
     "metadata": {},
     "output_type": "execute_result"
    }
   ],
   "source": [
    "non_defined_features"
   ]
  },
  {
   "cell_type": "code",
   "execution_count": 8,
   "metadata": {},
   "outputs": [],
   "source": [
    "np.save('non_defined_features.npy', non_defined_features)\n"
   ]
  },
  {
   "cell_type": "code",
   "execution_count": null,
   "metadata": {},
   "outputs": [],
   "source": []
  }
 ],
 "metadata": {
  "kernelspec": {
   "display_name": "Python 3",
   "language": "python",
   "name": "python3"
  },
  "language_info": {
   "codemirror_mode": {
    "name": "ipython",
    "version": 3
   },
   "file_extension": ".py",
   "mimetype": "text/x-python",
   "name": "python",
   "nbconvert_exporter": "python",
   "pygments_lexer": "ipython3",
   "version": "3.11.4"
  }
 },
 "nbformat": 4,
 "nbformat_minor": 2
}
